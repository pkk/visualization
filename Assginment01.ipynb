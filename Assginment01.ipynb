{
 "metadata": {
  "name": "",
  "signature": "sha256:c6af63b30bc524634f160416f856790d591ca219e70963ba0f87e1c0b1b9c745"
 },
 "nbformat": 3,
 "nbformat_minor": 0,
 "worksheets": [
  {
   "cells": [
    {
     "cell_type": "code",
     "collapsed": false,
     "input": [],
     "language": "python",
     "metadata": {},
     "outputs": []
    }
   ],
   "metadata": {}
  }
 ]
}